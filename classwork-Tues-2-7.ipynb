{
 "cells": [
  {
   "cell_type": "markdown",
   "metadata": {},
   "source": [
    "# Defining a programming challenge \n",
    "**Example** Writing the sudo code for project; take temp in F and convert to C     \n",
    "*This is for italics* "
   ]
  },
  {
   "cell_type": "markdown",
   "metadata": {},
   "source": [
    "xx = userinput of temp in F     \n",
    "yy = convert xx to C   \n",
    "print yy   "
   ]
  },
  {
   "cell_type": "code",
   "execution_count": 9,
   "metadata": {
    "collapsed": false
   },
   "outputs": [
    {
     "name": "stdout",
     "output_type": "stream",
     "text": [
      "What is the temperature? 55\n",
      "The temperature in C is 37.22222222222222\n"
     ]
    }
   ],
   "source": [
    "temperature = input(\"What is the temperature? \")\n",
    "cels = float(temperature) -32 * 5/9\n",
    "#have to convert to a float\n",
    "print(\"The temperature in C is {}\" .format(cels))\n",
    "#good for lists or mult variables in sentence "
   ]
  },
  {
   "cell_type": "code",
   "execution_count": 5,
   "metadata": {
    "collapsed": false
   },
   "outputs": [
    {
     "data": {
      "text/plain": [
       "str"
      ]
     },
     "execution_count": 5,
     "metadata": {},
     "output_type": "execute_result"
    }
   ],
   "source": [
    "type(temperature)"
   ]
  },
  {
   "cell_type": "code",
   "execution_count": 3,
   "metadata": {
    "collapsed": false
   },
   "outputs": [
    {
     "name": "stdout",
     "output_type": "stream",
     "text": [
      "What is your name: Adi\n"
     ]
    }
   ],
   "source": [
    "name = input(\"What is your name: \")"
   ]
  },
  {
   "cell_type": "code",
   "execution_count": 22,
   "metadata": {
    "collapsed": false
   },
   "outputs": [
    {
     "name": "stdout",
     "output_type": "stream",
     "text": [
      "[13, 8, 5, 3, 2, 1, 1]\n"
     ]
    }
   ],
   "source": [
    "a = [1,1 ,2 ,3 ,5, 8]\n",
    "a[4:6]\n",
    "a[4:]\n",
    "a[-2:]\n",
    "a[-1:-2]\n",
    "a.append(13)\n",
    "a.reverse()\n",
    "print(a)"
   ]
  },
  {
   "cell_type": "code",
   "execution_count": 33,
   "metadata": {
    "collapsed": false
   },
   "outputs": [
    {
     "data": {
      "text/plain": [
       "{'a': '.‑', 'b': '‑...', 'c': '‑.‑.', 'd': '‑..'}"
      ]
     },
     "execution_count": 33,
     "metadata": {},
     "output_type": "execute_result"
    }
   ],
   "source": [
    "m = {\"a\": \".‑\", \"b\": \"‑...‑\", \"c\": \"‑.‑.\"}\n",
    "m[\"d\"] = \"‑..\"\n",
    "m[\"b\"] = \"‑...\"\n",
    "m"
   ]
  },
  {
   "cell_type": "code",
   "execution_count": 32,
   "metadata": {
    "collapsed": false,
    "scrolled": false
   },
   "outputs": [
    {
     "name": "stdout",
     "output_type": "stream",
     "text": [
      "swati\n",
      "none\n",
      "lali\n",
      "raj\n",
      "none\n"
     ]
    }
   ],
   "source": [
    "fam = {\"mom\":\"swati\", \"dad\": \"raj\", \"sister\":\"lali\", \"brother\": \"none\"}\n",
    "fam[\"pets\"] = \"none\"\n",
    "for key in fam.keys():\n",
    "    print(fam[key])"
   ]
  },
  {
   "cell_type": "code",
   "execution_count": 35,
   "metadata": {
    "collapsed": false
   },
   "outputs": [
    {
     "name": "stdout",
     "output_type": "stream",
     "text": [
      "('mom', 'swati')\n",
      "('pets', 'none')\n",
      "('sister', 'lali')\n",
      "('dad', 'raj')\n",
      "('brother', 'none')\n"
     ]
    }
   ],
   "source": [
    "for pair in fam.items():\n",
    "    print (pair)\n",
    "# fam.items()[0] indexing not supported"
   ]
  },
  {
   "cell_type": "code",
   "execution_count": 36,
   "metadata": {
    "collapsed": false
   },
   "outputs": [
    {
     "name": "stdout",
     "output_type": "stream",
     "text": [
      "mom swati\n",
      "pets none\n",
      "sister lali\n",
      "dad raj\n",
      "brother none\n"
     ]
    }
   ],
   "source": [
    "# or \n",
    "for key, value in fam.items():\n",
    "    print(key, value)"
   ]
  },
  {
   "cell_type": "code",
   "execution_count": 41,
   "metadata": {
    "collapsed": false
   },
   "outputs": [
    {
     "data": {
      "text/plain": [
       "['sister', 'pets', 'mom', 'dad', 'brother']"
      ]
     },
     "execution_count": 41,
     "metadata": {},
     "output_type": "execute_result"
    }
   ],
   "source": [
    "#use list to walk thru family dictionary in reverse alphabestical order of keys\n",
    "relatives = list(fam.keys())\n",
    "relatives.sort()\n",
    "relatives.reverse()\n",
    "relatives"
   ]
  },
  {
   "cell_type": "code",
   "execution_count": 43,
   "metadata": {
    "collapsed": false
   },
   "outputs": [
    {
     "name": "stdout",
     "output_type": "stream",
     "text": [
      "lali\n",
      "none\n",
      "swati\n",
      "raj\n",
      "none\n"
     ]
    }
   ],
   "source": [
    "for person in relatives:\n",
    "    print(fam[person])"
   ]
  },
  {
   "cell_type": "code",
   "execution_count": 44,
   "metadata": {
    "collapsed": false
   },
   "outputs": [
    {
     "data": {
      "text/plain": [
       "<zip at 0x7fe35d64e888>"
      ]
     },
     "execution_count": 44,
     "metadata": {},
     "output_type": "execute_result"
    }
   ],
   "source": [
    "keys= [\"name\", \"age\", \"food\"]\n",
    "values = [ \"monty\", 42, \"spam\"]\n",
    "zip(keys,values)"
   ]
  },
  {
   "cell_type": "code",
   "execution_count": 45,
   "metadata": {
    "collapsed": true
   },
   "outputs": [],
   "source": [
    "#tuples \n",
    "foodweb = ((\"a\",\"b\"), \"c\", \"d\")"
   ]
  },
  {
   "cell_type": "code",
   "execution_count": null,
   "metadata": {
    "collapsed": true
   },
   "outputs": [],
   "source": []
  }
 ],
 "metadata": {
  "anaconda-cloud": {},
  "kernelspec": {
   "display_name": "Python [conda root]",
   "language": "python",
   "name": "conda-root-py"
  },
  "language_info": {
   "codemirror_mode": {
    "name": "ipython",
    "version": 3
   },
   "file_extension": ".py",
   "mimetype": "text/x-python",
   "name": "python",
   "nbconvert_exporter": "python",
   "pygments_lexer": "ipython3",
   "version": "3.5.2"
  }
 },
 "nbformat": 4,
 "nbformat_minor": 2
}
