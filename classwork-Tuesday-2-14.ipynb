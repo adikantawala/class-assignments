{
 "cells": [
  {
   "cell_type": "code",
   "execution_count": 3,
   "metadata": {
    "collapsed": false
   },
   "outputs": [
    {
     "data": {
      "text/plain": [
       "'ggtct'"
      ]
     },
     "execution_count": 3,
     "metadata": {},
     "output_type": "execute_result"
    }
   ],
   "source": [
    "seq = \"ATCTTCT\"\n",
    "seq2 = \"GGTCT\"\n",
    "\n",
    "seq = seq.replace(\"A\",\"a\")\n",
    "seq = seq.replace(\"T\",\"t\")\n",
    "\n",
    "seq2 = seq2.replace(\"T\",\"t\")\n",
    "\n",
    "seq.lower()\n",
    "seq2.lower()"
   ]
  },
  {
   "cell_type": "code",
   "execution_count": 6,
   "metadata": {
    "collapsed": true
   },
   "outputs": [],
   "source": [
    "def greeter():\n",
    "    print(\"Welcome!\")\n",
    "    print(\"this dunction takes no arguments\")"
   ]
  },
  {
   "cell_type": "code",
   "execution_count": 5,
   "metadata": {
    "collapsed": false
   },
   "outputs": [
    {
     "name": "stdout",
     "output_type": "stream",
     "text": [
      "Welcome!\n"
     ]
    }
   ],
   "source": [
    "greeter()\n",
    "#no parenthesis just tells you it is a function"
   ]
  },
  {
   "cell_type": "code",
   "execution_count": 7,
   "metadata": {
    "collapsed": true
   },
   "outputs": [],
   "source": [
    "def stringAnalyzer(ss):\n",
    "    length= len(ss)\n",
    "    yy =26\n",
    "    zz = yy+length\n",
    "    print(\"This string has {} characters\".format(length))\n",
    "    return zz"
   ]
  },
  {
   "cell_type": "code",
   "execution_count": 10,
   "metadata": {
    "collapsed": false
   },
   "outputs": [
    {
     "name": "stdout",
     "output_type": "stream",
     "text": [
      "This string has 7 characters\n",
      "longerlen\n"
     ]
    }
   ],
   "source": [
    "longerlen= stringAnalyzer(seq)\n",
    "print(longerlen)"
   ]
  },
  {
   "cell_type": "code",
   "execution_count": 26,
   "metadata": {
    "collapsed": false
   },
   "outputs": [],
   "source": [
    "#seq = \"ATTCGTTAT\"\n",
    "def get_at_content(dna, sigfig):\n",
    "    dna = dna.upper() #makes everything uppercase\n",
    "    length = len(dna)\n",
    "    a_count = dna.count(\"A\")\n",
    "    t_count =dna.count(\"T\")\n",
    "    at_content = (a_count + t_count / length)\n",
    "    dnalist = [length, a_count, t_count, at_content]\n",
    "    return round(at_content, sigfig)\n",
    "\n"
   ]
  },
  {
   "cell_type": "code",
   "execution_count": 29,
   "metadata": {
    "collapsed": false
   },
   "outputs": [],
   "source": [
    "res = get_at_content(\"ATGCATGCAACTGAATCG\")\n",
    "#second string was lower case which caused probelms but we fixed by inclduing dna.upper in the functiontion\n"
   ]
  },
  {
   "cell_type": "code",
   "execution_count": 25,
   "metadata": {
    "collapsed": false
   },
   "outputs": [
    {
     "name": "stdout",
     "output_type": "stream",
     "text": [
      "{'T': 2, 'G': 2, 'C': 2, 'A': 1}\n"
     ]
    }
   ],
   "source": [
    "seq = \"AtTccgG\"\n",
    "def baseCounter(dna):\n",
    "    baseDict = {}#will hold my counts\n",
    "    for cc in [\"A\",\"T\", \"C\", \"G\"]:\n",
    "        count=dna.upper().count(cc)\n",
    "        baseDict[cc] = count\n",
    "        #print (cc+ \"=\" + str(count))\n",
    "    return baseDict\n",
    "\n",
    "dd = baseCounter(seq)\n",
    "print (dd)"
   ]
  },
  {
   "cell_type": "code",
   "execution_count": null,
   "metadata": {
    "collapsed": true
   },
   "outputs": [],
   "source": [
    "res[-1] "
   ]
  },
  {
   "cell_type": "code",
   "execution_count": null,
   "metadata": {
    "collapsed": true
   },
   "outputs": [],
   "source": []
  }
 ],
 "metadata": {
  "kernelspec": {
   "display_name": "Python [conda root]",
   "language": "python",
   "name": "conda-root-py"
  },
  "language_info": {
   "codemirror_mode": {
    "name": "ipython",
    "version": 3
   },
   "file_extension": ".py",
   "mimetype": "text/x-python",
   "name": "python",
   "nbconvert_exporter": "python",
   "pygments_lexer": "ipython3",
   "version": "3.5.2"
  }
 },
 "nbformat": 4,
 "nbformat_minor": 2
}
