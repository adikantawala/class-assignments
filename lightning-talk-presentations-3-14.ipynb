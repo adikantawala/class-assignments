{
 "cells": [
  {
   "cell_type": "markdown",
   "metadata": {},
   "source": [
    "Ashen Parikh: which 2 countries were most liekly to become involved with each other?\n",
    "\n",
    "Matthew Muia: why is the one in Chico growing faster than the other site? What is bootstrapping? \n",
    "\n",
    "Antonella Gonzalez:\n",
    "\n",
    "Yee Chau: Were there two seperate extinction time periods and you chose the mid point as the deciding point pre-era and post-era \n",
    "\n",
    "Kristen Lee: It would be interesting to track temperature changes over the years and see if it correlates with the movement of the species.  \n",
    "\n",
    "Madison Downing: Have you found any correlation as to why there is the most orange in the upper middle portion of hte graph. \n",
    "\n",
    "Youstina Salama: Are species richness and diversity similar concepts? Was the decrease in richness due to species branching off? \n",
    "\n",
    "Jeremy Wadowski: did you find any correlation between legth of workout and the person hitting their peak metabloic rate? \n",
    "\n",
    "Mehdi Nojoumi: If you are missing one or two orders there is a skew. Knowing this, is there a way to correct for that by perhaps wheighing one species more?: You can not since it is binary (0 or 1) depending on if the species is present. \n",
    "\n",
    "Junghoon Kim: Did you find that the locomotion helped with the spread? \n",
    "\n",
    "Dustin Wong: Is the huge spread in stratagraph due to species richness? \n",
    "\n",
    "Hyein Kil: It was really cool how you were able to track that the Asian bird diverged from the American bird. "
   ]
  },
  {
   "cell_type": "code",
   "execution_count": null,
   "metadata": {
    "collapsed": true
   },
   "outputs": [],
   "source": []
  }
 ],
 "metadata": {
  "anaconda-cloud": {},
  "kernelspec": {
   "display_name": "Python [conda root]",
   "language": "python",
   "name": "conda-root-py"
  },
  "language_info": {
   "codemirror_mode": {
    "name": "ipython",
    "version": 3
   },
   "file_extension": ".py",
   "mimetype": "text/x-python",
   "name": "python",
   "nbconvert_exporter": "python",
   "pygments_lexer": "ipython3",
   "version": "3.5.2"
  }
 },
 "nbformat": 4,
 "nbformat_minor": 2
}
