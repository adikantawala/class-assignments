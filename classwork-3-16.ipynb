{
 "cells": [
  {
   "cell_type": "markdown",
   "metadata": {},
   "source": [
    "Aditya Kantawala: Me! Try graphing on old world map before contiental drift but also, isn't the long and lat related to where the fossil was found \n",
    "\n",
    "Justin Shieh: Does changing brain size affect survior ship?\n",
    "\n",
    "Christina Zhou: Could a reason for there being such few fossil occurenes be due to the fact that bats are a very new species\n",
    "\n",
    "Gayane Hovsepyan: Why do you think there is a gap between 3 and 5? If it is social, shouldn't the biggest spike be in age 5 \n",
    "\n",
    "Roxana Nojoumi: What sort of correlation are you looking for between horses and plant diversity? Would you be expecting decline in plants and horses to be proportional. \n",
    "\n",
    "Cooper Kass: Did invasive species evolve after surving the mass extinction?\n",
    "\n",
    "Jeffrey Lee: Were you able to find why although two of the 3 families went extinct but there was still an increase in species diversity. \n",
    "\n",
    "Laura Trejo: why now only restricted to tropical area? Started tropical and diverged from there but never adapted to different conditions? \n",
    "\n",
    "Jin Kim: Do you know why those two species survived the longest? Habitat related?\n",
    "\n",
    "Erin Solis: Is the jump in extinction rate due to humans destroying habitats? intersting fact: stigma against rodents leading to people not helping with saving the species \n",
    "\n",
    "Sean Mathew: important to look at bigger picture because looking at net diversification you can see the huge boom in the late miocein radiation\n",
    "\n",
    "Tiffany Dang: net dversification can be driven by extcintion or by speciation or both which makes it hard to poinpoint what the reasons are"
   ]
  }
 ],
 "metadata": {
  "anaconda-cloud": {},
  "kernelspec": {
   "display_name": "Python [conda root]",
   "language": "python",
   "name": "conda-root-py"
  },
  "language_info": {
   "codemirror_mode": {
    "name": "ipython",
    "version": 3
   },
   "file_extension": ".py",
   "mimetype": "text/x-python",
   "name": "python",
   "nbconvert_exporter": "python",
   "pygments_lexer": "ipython3",
   "version": "3.5.2"
  }
 },
 "nbformat": 4,
 "nbformat_minor": 2
}
