{
 "cells": [
  {
   "cell_type": "code",
   "execution_count": 3,
   "metadata": {
    "collapsed": false
   },
   "outputs": [],
   "source": [
    "nature_birds={}\n",
    "ff = open(\"simple_nature.csv\", \"r\", encoding = \"ISO-8859-15\")\n",
    "ss = ff.readlines()[1:]\n",
    "for line in ss:\n",
    "    sp = line.split(\",\")[0]\n",
    "    fam = line.split(\",\")[2]\n",
    "    nature_birds[sp] = fam\n",
    "ff.close()\n",
    "#print(nature_birds)"
   ]
  },
  {
   "cell_type": "code",
   "execution_count": 10,
   "metadata": {
    "collapsed": false
   },
   "outputs": [],
   "source": [
    "def make_bird_dict(filename):\n",
    "    #this function opens the data file from Thomas et al and extracts the species and family as a dictionary\n",
    "    birdDict={}\n",
    "    fobj = open(filename, \"r\", encoding = \"ISO-8859-15\" )#open the file\n",
    "    all_records = fobj.readlines()[1:]#read the file\n",
    "    for line in all_records:\n",
    "        species = line.split(\",\")[0]\n",
    "        fam = line.split(\",\")[2]\n",
    "        birdDict[species]=fam\n",
    "    #split line on comma \n",
    "    #stick species and family into birdDict\n",
    "    return birdDict"
   ]
  },
  {
   "cell_type": "code",
   "execution_count": 23,
   "metadata": {
    "collapsed": false
   },
   "outputs": [],
   "source": [
    "# make_bird_dict(\"simple_nature.csv\")\n"
   ]
  },
  {
   "cell_type": "code",
   "execution_count": 27,
   "metadata": {
    "collapsed": false
   },
   "outputs": [
    {
     "name": "stdout",
     "output_type": "stream",
     "text": [
      "Abeillia_abeillei Trochilidae\n",
      "family of Abeillia_abeilleiis Trochilidae\n"
     ]
    }
   ],
   "source": [
    "thomas_birds = make_bird_dict(\"simple_nature.csv\")\n",
    "species=list(thomas_birds.keys())\n",
    "species.sort()\n",
    "first_species= species[0]\n",
    "first_fam = thomas_birds[first_species]\n",
    "print(first_species, first_fam)\n",
    "\n",
    "print(\"family of \" + species[0] + \"is \" + thomas_birds[species[0]])\n",
    "\n"
   ]
  },
  {
   "cell_type": "code",
   "execution_count": 29,
   "metadata": {
    "collapsed": false
   },
   "outputs": [],
   "source": [
    "# for species in thomas_birds.keys():\n",
    "#     fam = thomas_birds[species]\n",
    "#     print(species, fam)"
   ]
  },
  {
   "cell_type": "code",
   "execution_count": 37,
   "metadata": {
    "collapsed": false
   },
   "outputs": [
    {
     "name": "stdout",
     "output_type": "stream",
     "text": [
      "I own 3 dogs\n",
      "I own dog 3s\n"
     ]
    }
   ],
   "source": [
    "def outOfOrder(number, pet):\n",
    "    print (\"I own {} {}s\".format(number, pet))\n",
    "\n",
    "outOfOrder(3, \"dog\")\n",
    "outOfOrder(\"dog\", 3)"
   ]
  },
  {
   "cell_type": "code",
   "execution_count": 39,
   "metadata": {
    "collapsed": false
   },
   "outputs": [
    {
     "name": "stdout",
     "output_type": "stream",
     "text": [
      "I own 3 dogs\n",
      "I own 3 dogs\n"
     ]
    }
   ],
   "source": [
    "outOfOrder(number=3, pet=\"dog\")\n",
    "# same as\n",
    "outOfOrder(pet=\"dog\", number=3)"
   ]
  },
  {
   "cell_type": "code",
   "execution_count": null,
   "metadata": {
    "collapsed": true
   },
   "outputs": [],
   "source": []
  }
 ],
 "metadata": {
  "anaconda-cloud": {},
  "kernelspec": {
   "display_name": "Python [conda root]",
   "language": "python",
   "name": "conda-root-py"
  },
  "language_info": {
   "codemirror_mode": {
    "name": "ipython",
    "version": 3
   },
   "file_extension": ".py",
   "mimetype": "text/x-python",
   "name": "python",
   "nbconvert_exporter": "python",
   "pygments_lexer": "ipython3",
   "version": "3.5.2"
  }
 },
 "nbformat": 4,
 "nbformat_minor": 2
}
