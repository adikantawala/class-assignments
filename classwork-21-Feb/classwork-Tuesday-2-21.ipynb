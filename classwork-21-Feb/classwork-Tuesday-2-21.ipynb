{
 "cells": [
  {
   "cell_type": "markdown",
   "metadata": {
    "collapsed": true
   },
   "source": [
    "## wget to get data\n",
    "## unzip to unzip the files "
   ]
  },
  {
   "cell_type": "markdown",
   "metadata": {},
   "source": [
    "## The cocoli.txt file contains a single record for each tree censused.\n",
    "## The cocolisp.txt contains species code "
   ]
  },
  {
   "cell_type": "code",
   "execution_count": 2,
   "metadata": {
    "collapsed": true
   },
   "outputs": [],
   "source": [
    "## see tells you best program to view file"
   ]
  },
  {
   "cell_type": "markdown",
   "metadata": {},
   "source": [
    "1. Mult2 is the number of stems the plant has at 1.3m and the 2 indicates it was from the second census. \n",
    "2. dbh2 Recorded in mm, all plants should have a dbh of 10 or above, except in certain cases. The diameter of the biggest stem \n",
    "3. cocolisp: can copy species code and grep for it in this file \n",
    "4. Calycophyllum\tcandidissimum\tRubiaceae"
   ]
  },
  {
   "cell_type": "markdown",
   "metadata": {},
   "source": [
    "1. It kept growing \n",
    "2. The -1 indicates that the plant is dead"
   ]
  },
  {
   "cell_type": "markdown",
   "metadata": {},
   "source": [
    "## Intersesting questions \n",
    "1. See how climate change is affecting forests/ the enivornment through the years \n",
    "2. Use conditions to track fitness of plans \n",
    "3. Is there variation in growth rate across the plot since we have x and y coordinates"
   ]
  },
  {
   "cell_type": "markdown",
   "metadata": {},
   "source": [
    "## Guided exploration of the data\n",
    "1. sed 's/\\s/,/g' cocolisp.txt | cut -d \",\" -f 2| uniq -c | sort -n\n",
    "Piper is the most species rich\n",
    "\n",
    "2. sed 's/\\s/,/g' cocolisp.txt | cut -d \",\" -f 2| uniq -c | sort -n | grep -w \"1\" | wc -l \n",
    "127 genera "
   ]
  },
  {
   "cell_type": "code",
   "execution_count": 4,
   "metadata": {
    "collapsed": true
   },
   "outputs": [],
   "source": [
    "#read in data\n",
    "#for loop to go through the lines that you read in \n",
    "    #store the info from the split along the lines \n",
    "    #ran out of time "
   ]
  },
  {
   "cell_type": "code",
   "execution_count": null,
   "metadata": {
    "collapsed": true
   },
   "outputs": [],
   "source": []
  }
 ],
 "metadata": {
  "anaconda-cloud": {},
  "kernelspec": {
   "display_name": "Python [conda root]",
   "language": "python",
   "name": "conda-root-py"
  },
  "language_info": {
   "codemirror_mode": {
    "name": "ipython",
    "version": 3
   },
   "file_extension": ".py",
   "mimetype": "text/x-python",
   "name": "python",
   "nbconvert_exporter": "python",
   "pygments_lexer": "ipython3",
   "version": "3.5.2"
  }
 },
 "nbformat": 4,
 "nbformat_minor": 2
}
