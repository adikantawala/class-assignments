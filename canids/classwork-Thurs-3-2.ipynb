{
 "cells": [
  {
   "cell_type": "code",
   "execution_count": 1,
   "metadata": {
    "collapsed": true
   },
   "outputs": [],
   "source": [
    "#want to know earlist and latest occuranance \n",
    "\n",
    "data = open(\"pbdb_data_edited.csv\")\n"
   ]
  },
  {
   "cell_type": "code",
   "execution_count": 5,
   "metadata": {
    "collapsed": false
   },
   "outputs": [],
   "source": [
    "# with open(\"/home/eeb177-student/Desktop/eeb-177/class-assignments/canids/pbdb_data_edited.csv\") as f:\n",
    "#     data =f.read()"
   ]
  },
  {
   "cell_type": "code",
   "execution_count": 1,
   "metadata": {
    "collapsed": false
   },
   "outputs": [],
   "source": [
    "infile = \"pbdb_data_edited.csv\"\n",
    "with open(infile, 'r') as ff:\n",
    "    canid_recs =ff.readlines()[1:]"
   ]
  },
  {
   "cell_type": "code",
   "execution_count": 2,
   "metadata": {
    "collapsed": false
   },
   "outputs": [],
   "source": [
    "#python is reading in as a list \n",
    "from collections import defaultdict \n",
    "species_ranges = defaultdict(list)\n",
    "\n",
    "for line in canid_recs:\n",
    "    species =line.split(\",\")[5]\n",
    "    minage = line.split('\",\"')[10]\n",
    "    maxage = line.split('\",\"')[11]\n",
    "    mean_age = (float(minage)+float(maxage))/2\n",
    "    #print(mean_age)\n",
    "    \n",
    "    species_ranges[species].append(mean_age)\n",
    "    #adds species as keys and means_ages as values "
   ]
  },
  {
   "cell_type": "code",
   "execution_count": 11,
   "metadata": {
    "collapsed": false
   },
   "outputs": [],
   "source": [
    "output = open(\"canid-ranges.csv\",\"w\")\n",
    "\n",
    "for keys in species_ranges.keys():\n",
    "    ages = species_ranges[keys]\n",
    "    minage = min(ages)\n",
    "    maxage = max(ages)\n",
    "    genus = keys.split(\" \")[0]\n",
    "    #print(keys, minage, maxage)\n",
    "    outline = \"{},{},{},{}\\n\".format(genus,species,minage,maxage)\n",
    "    output.write(outline)\n",
    "    #output.write(genus + \",\" +keys)\n",
    "    "
   ]
  },
  {
   "cell_type": "code",
   "execution_count": null,
   "metadata": {
    "collapsed": true
   },
   "outputs": [],
   "source": []
  }
 ],
 "metadata": {
  "anaconda-cloud": {},
  "kernelspec": {
   "display_name": "Python [conda root]",
   "language": "python",
   "name": "conda-root-py"
  },
  "language_info": {
   "codemirror_mode": {
    "name": "ipython",
    "version": 3
   },
   "file_extension": ".py",
   "mimetype": "text/x-python",
   "name": "python",
   "nbconvert_exporter": "python",
   "pygments_lexer": "ipython3",
   "version": "3.5.2"
  }
 },
 "nbformat": 4,
 "nbformat_minor": 2
}
